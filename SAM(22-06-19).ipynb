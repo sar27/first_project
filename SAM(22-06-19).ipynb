{
 "cells": [
  {
   "cell_type": "markdown",
   "metadata": {},
   "source": [
    "# FUNCTIONS"
   ]
  },
  {
   "cell_type": "code",
   "execution_count": 1,
   "metadata": {},
   "outputs": [
    {
     "name": "stdout",
     "output_type": "stream",
     "text": [
      "Sarfaraz\n"
     ]
    }
   ],
   "source": [
    "def greet_user():\n",
    "    print ('Sarfaraz')\n",
    "    \n",
    "greet_user()"
   ]
  },
  {
   "cell_type": "code",
   "execution_count": 2,
   "metadata": {},
   "outputs": [
    {
     "name": "stdout",
     "output_type": "stream",
     "text": [
      "sarfaraz1\n"
     ]
    }
   ],
   "source": [
    "print('sarfaraz1')"
   ]
  },
  {
   "cell_type": "code",
   "execution_count": 3,
   "metadata": {},
   "outputs": [
    {
     "name": "stdout",
     "output_type": "stream",
     "text": [
      "6\n"
     ]
    }
   ],
   "source": [
    "def multi(a,b):\n",
    "    c=a*b\n",
    "    print (c)\n",
    "    \n",
    "multi(2,3)"
   ]
  },
  {
   "cell_type": "code",
   "execution_count": 4,
   "metadata": {},
   "outputs": [
    {
     "name": "stdout",
     "output_type": "stream",
     "text": [
      "7\n"
     ]
    }
   ],
   "source": [
    "def add(a,b):\n",
    "    c=a+b\n",
    "    print(c)\n",
    "add(3,4)"
   ]
  },
  {
   "cell_type": "code",
   "execution_count": 6,
   "metadata": {},
   "outputs": [
    {
     "name": "stdout",
     "output_type": "stream",
     "text": [
      "2\n"
     ]
    }
   ],
   "source": [
    "def substract(a,b):\n",
    "    c=a-b\n",
    "    print (c)\n",
    "substract(4,2)\n"
   ]
  },
  {
   "cell_type": "code",
   "execution_count": 9,
   "metadata": {},
   "outputs": [
    {
     "name": "stdout",
     "output_type": "stream",
     "text": [
      "sarfaraz ahmed mufti\n"
     ]
    }
   ],
   "source": [
    "def fullname(first_name,middle_name,last_name):\n",
    "    name= first_name+' '+middle_name+' '+last_name\n",
    "    print(name)\n",
    "fullname('sarfaraz','ahmed','mufti')\n"
   ]
  },
  {
   "cell_type": "code",
   "execution_count": 10,
   "metadata": {},
   "outputs": [
    {
     "name": "stdout",
     "output_type": "stream",
     "text": [
      "enter your first nameali\n",
      "enter your second namezahi\n",
      "enter your last namelakhni\n",
      "ali zahi lakhni\n"
     ]
    }
   ],
   "source": [
    "firstname = input('enter your first name')\n",
    "middlename = input ('enter your second name')\n",
    "lastname = input('enter your last name')\n",
    "fullname(firstname,middlename,lastname)"
   ]
  },
  {
   "cell_type": "code",
   "execution_count": 12,
   "metadata": {},
   "outputs": [
    {
     "name": "stdout",
     "output_type": "stream",
     "text": [
      "enter your first namesarfaraz\n",
      "enter your second nameahmed\n",
      "enter your last namemufti\n",
      "sarfaraz ahmed mufti\n"
     ]
    }
   ],
   "source": [
    "def fullname():\n",
    "    firstname = input('enter your first name')\n",
    "    middlename = input ('enter your second name')\n",
    "    lastname = input('enter your last name')\n",
    "    name= firstname+' '+middlename+' '+lastname\n",
    "    print(name)\n",
    "    \n",
    "fullname()"
   ]
  },
  {
   "cell_type": "code",
   "execution_count": 29,
   "metadata": {},
   "outputs": [
    {
     "name": "stdout",
     "output_type": "stream",
     "text": [
      "5\n"
     ]
    }
   ],
   "source": [
    "def cal(fisrtno,secondno,operator):#positional argument\n",
    "    try:\n",
    "        \n",
    "        number=0\n",
    "        if operator=='+':\n",
    "            number=fisrtno+secondno\n",
    "        elif operator=='-':\n",
    "            number=fisrtno-secondno\n",
    "        elif operator=='*':\n",
    "            number=fisrtno*secondno\n",
    "        else:\n",
    "            number=fisrtno/secondno\n",
    "        print(number)\n",
    "    except:\n",
    "        print(\"Something else went wrong\")\n",
    "\n",
    "cal(2,3,'+')\n",
    "\n",
    "        "
   ]
  },
  {
   "cell_type": "code",
   "execution_count": 30,
   "metadata": {},
   "outputs": [
    {
     "name": "stdout",
     "output_type": "stream",
     "text": [
      "-1\n"
     ]
    }
   ],
   "source": [
    "cal(2,3,'-') #positional argument"
   ]
  },
  {
   "cell_type": "code",
   "execution_count": 31,
   "metadata": {},
   "outputs": [
    {
     "name": "stdout",
     "output_type": "stream",
     "text": [
      "6\n"
     ]
    }
   ],
   "source": [
    "cal(2,3,'*')"
   ]
  },
  {
   "cell_type": "code",
   "execution_count": 32,
   "metadata": {},
   "outputs": [
    {
     "name": "stdout",
     "output_type": "stream",
     "text": [
      "0.6666666666666666\n"
     ]
    }
   ],
   "source": [
    "cal(2,3,'')"
   ]
  },
  {
   "cell_type": "code",
   "execution_count": 33,
   "metadata": {},
   "outputs": [
    {
     "name": "stdout",
     "output_type": "stream",
     "text": [
      "Something else went wrong\n"
     ]
    }
   ],
   "source": [
    "cal(2,0,'')"
   ]
  },
  {
   "cell_type": "markdown",
   "metadata": {},
   "source": [
    "# keyword argument\n",
    "\n"
   ]
  },
  {
   "cell_type": "code",
   "execution_count": 34,
   "metadata": {},
   "outputs": [
    {
     "name": "stdout",
     "output_type": "stream",
     "text": [
      "-7\n"
     ]
    }
   ],
   "source": [
    "cal(fisrtno=2,secondno=9,operator='-')"
   ]
  },
  {
   "cell_type": "code",
   "execution_count": 35,
   "metadata": {},
   "outputs": [
    {
     "name": "stdout",
     "output_type": "stream",
     "text": [
      "-7\n"
     ]
    }
   ],
   "source": [
    "cal(fisrtno=2,operator='-',secondno=9)"
   ]
  },
  {
   "cell_type": "markdown",
   "metadata": {},
   "source": [
    "# Default Parameter"
   ]
  },
  {
   "cell_type": "code",
   "execution_count": null,
   "metadata": {},
   "outputs": [],
   "source": []
  }
 ],
 "metadata": {
  "kernelspec": {
   "display_name": "Python 3",
   "language": "python",
   "name": "python3"
  },
  "language_info": {
   "codemirror_mode": {
    "name": "ipython",
    "version": 3
   },
   "file_extension": ".py",
   "mimetype": "text/x-python",
   "name": "python",
   "nbconvert_exporter": "python",
   "pygments_lexer": "ipython3",
   "version": "3.6.5"
  }
 },
 "nbformat": 4,
 "nbformat_minor": 2
}
