{
 "cells": [
  {
   "cell_type": "markdown",
   "metadata": {},
   "source": [
    "# FUNCTION LOCAL VS GLOBAL VARIABLES"
   ]
  },
  {
   "cell_type": "code",
   "execution_count": 1,
   "metadata": {},
   "outputs": [],
   "source": [
    "# LOCAL VARIABLE: variable define inside function and can be accessed inside the function \n",
    "\n",
    "#global variables: variable define outside the function and can be accesssed in function and outside the function."
   ]
  },
  {
   "cell_type": "code",
   "execution_count": 2,
   "metadata": {},
   "outputs": [],
   "source": [
    "#local variables\n",
    "\n",
    "def local_var():\n",
    "    s=100\n",
    "    print(s)"
   ]
  },
  {
   "cell_type": "code",
   "execution_count": 4,
   "metadata": {},
   "outputs": [
    {
     "name": "stdout",
     "output_type": "stream",
     "text": [
      "100\n"
     ]
    }
   ],
   "source": [
    "local_var()"
   ]
  },
  {
   "cell_type": "code",
   "execution_count": 6,
   "metadata": {},
   "outputs": [
    {
     "name": "stdout",
     "output_type": "stream",
     "text": [
      "100 orange\n",
      "apple\n"
     ]
    }
   ],
   "source": [
    "#global variables:\n",
    "\n",
    "fruit ='apple'\n",
    "def global_var():\n",
    "    s=100\n",
    "    fruit='orange'\n",
    "    print(s,fruit)\n",
    "    \n",
    "global_var()\n",
    "print(fruit)"
   ]
  },
  {
   "cell_type": "code",
   "execution_count": 12,
   "metadata": {},
   "outputs": [],
   "source": [
    "fruit ='apple'\n",
    "def global_var():\n",
    "    global s  # global keyword is a keyword to access variable out the function \n",
    "    s=100\n",
    "    fruit='orange'\n",
    "    print(s,fruit)"
   ]
  },
  {
   "cell_type": "code",
   "execution_count": 13,
   "metadata": {},
   "outputs": [
    {
     "name": "stdout",
     "output_type": "stream",
     "text": [
      "100 orange\n"
     ]
    }
   ],
   "source": [
    "global_var()"
   ]
  },
  {
   "cell_type": "code",
   "execution_count": 14,
   "metadata": {},
   "outputs": [
    {
     "data": {
      "text/plain": [
       "100"
      ]
     },
     "execution_count": 14,
     "metadata": {},
     "output_type": "execute_result"
    }
   ],
   "source": [
    "s"
   ]
  },
  {
   "cell_type": "code",
   "execution_count": 18,
   "metadata": {},
   "outputs": [
    {
     "name": "stdout",
     "output_type": "stream",
     "text": [
      "6\n"
     ]
    },
    {
     "data": {
      "text/plain": [
       "(6, 'pakistan')"
      ]
     },
     "execution_count": 18,
     "metadata": {},
     "output_type": "execute_result"
    }
   ],
   "source": [
    "def add(a,b):\n",
    "    print(a+b)\n",
    "    return a+b,\"pakistan\" #multiple value can be return at time.\n",
    "sum= add(2,4)\n",
    "sum"
   ]
  },
  {
   "cell_type": "markdown",
   "metadata": {},
   "source": [
    "# while looping"
   ]
  },
  {
   "cell_type": "code",
   "execution_count": 19,
   "metadata": {},
   "outputs": [
    {
     "name": "stdout",
     "output_type": "stream",
     "text": [
      "0\n",
      "1\n",
      "2\n",
      "3\n",
      "4\n"
     ]
    }
   ],
   "source": [
    "for a in range(5):\n",
    "    print(a)"
   ]
  },
  {
   "cell_type": "code",
   "execution_count": 20,
   "metadata": {},
   "outputs": [
    {
     "name": "stdout",
     "output_type": "stream",
     "text": [
      "0\n",
      "1\n",
      "2\n",
      "3\n",
      "4\n"
     ]
    }
   ],
   "source": [
    "a= 0 \n",
    "while (a<5):\n",
    "    print(a)\n",
    "    a+=1"
   ]
  },
  {
   "cell_type": "code",
   "execution_count": 23,
   "metadata": {},
   "outputs": [
    {
     "name": "stdout",
     "output_type": "stream",
     "text": [
      "namesa\n",
      "your name is sa\n",
      "namesa\n",
      "your name is sa\n",
      "namesa\n",
      "your name is sa\n"
     ]
    }
   ],
   "source": [
    "# difference between for and while loop:\n",
    "for a in range(3):\n",
    "    name_ = input(\"name\")\n",
    "    print(f'your name is {name_}')"
   ]
  },
  {
   "cell_type": "code",
   "execution_count": 25,
   "metadata": {},
   "outputs": [
    {
     "name": "stdout",
     "output_type": "stream",
     "text": [
      "name batao1\n",
      "your name is 1\n",
      "name batao2\n",
      "your name is 2\n",
      "name batao3\n",
      "your name is 3\n",
      "name batao4\n",
      "your name is 4\n",
      "name batao5\n",
      "your name is 5\n",
      "name batao6\n",
      "your name is 6\n",
      "name batao7\n",
      "your name is 7\n",
      "name bataoquit\n",
      "your name is quit\n"
     ]
    }
   ],
   "source": [
    "#pizza topping:\n",
    "flag= True\n",
    "while flag:\n",
    "    name=input('name batao')\n",
    "    \n",
    "    if name =='quit':\n",
    "        flag=False\n",
    "    print(f'your name is {name}')"
   ]
  },
  {
   "cell_type": "markdown",
   "metadata": {},
   "source": [
    "# Object oriented programming language"
   ]
  },
  {
   "cell_type": "code",
   "execution_count": 27,
   "metadata": {},
   "outputs": [],
   "source": [
    "#classes\n",
    "\n",
    "class Patient():\n",
    "    pass"
   ]
  },
  {
   "cell_type": "code",
   "execution_count": 28,
   "metadata": {},
   "outputs": [],
   "source": [
    "# object have attribute and properties :\n"
   ]
  },
  {
   "cell_type": "code",
   "execution_count": 29,
   "metadata": {},
   "outputs": [],
   "source": [
    "# attribute and properties are in classes"
   ]
  },
  {
   "cell_type": "code",
   "execution_count": 40,
   "metadata": {},
   "outputs": [],
   "source": [
    "class Patient():\n",
    "    def __init__(self,pname,page,pgender,pdisease): #constructor in python it is initilizer\n",
    "        ######attributes###############################################\n",
    "        self.pname=pname #copy of multiple object\n",
    "        self.page=page\n",
    "        self.pgender=pgender\n",
    "        self.pdisease=pdisease\n",
    "#########################behaviours###################################\n",
    "    def take_medicine(self):\n",
    "        print(f'{self.pname} is taking medicine')\n",
    "      #  pass #pass does not demand to write any code\n",
    "    def take_rest(self):\n",
    "       # pass\n",
    "     print(f'{self.pname} is taking rest')\n",
    "    def depositMoney(self):\n",
    "      #  pass\n",
    "         print(f'{self.pname} is depositing fee')\n",
    "    \n",
    "        "
   ]
  },
  {
   "cell_type": "code",
   "execution_count": 41,
   "metadata": {},
   "outputs": [],
   "source": [
    "p123=Patient ('sarfaraz',50,'male','flu')"
   ]
  },
  {
   "cell_type": "code",
   "execution_count": 42,
   "metadata": {},
   "outputs": [],
   "source": [
    "p124 = Patient ('sambha',40,'male','fever')"
   ]
  },
  {
   "cell_type": "code",
   "execution_count": 44,
   "metadata": {},
   "outputs": [
    {
     "name": "stdout",
     "output_type": "stream",
     "text": [
      "sarfaraz is taking rest\n"
     ]
    }
   ],
   "source": [
    "p123.take_rest()"
   ]
  },
  {
   "cell_type": "code",
   "execution_count": 45,
   "metadata": {},
   "outputs": [
    {
     "data": {
      "text/plain": [
       "'sarfaraz'"
      ]
     },
     "execution_count": 45,
     "metadata": {},
     "output_type": "execute_result"
    }
   ],
   "source": [
    "\n",
    "p123.pname\n"
   ]
  },
  {
   "cell_type": "code",
   "execution_count": 46,
   "metadata": {},
   "outputs": [
    {
     "data": {
      "text/plain": [
       "40"
      ]
     },
     "execution_count": 46,
     "metadata": {},
     "output_type": "execute_result"
    }
   ],
   "source": [
    "p124.page"
   ]
  },
  {
   "cell_type": "code",
   "execution_count": 47,
   "metadata": {},
   "outputs": [
    {
     "data": {
      "text/plain": [
       "'sambha'"
      ]
     },
     "execution_count": 47,
     "metadata": {},
     "output_type": "execute_result"
    }
   ],
   "source": [
    "p124.pname"
   ]
  },
  {
   "cell_type": "code",
   "execution_count": 48,
   "metadata": {},
   "outputs": [],
   "source": [
    "class student():\n",
    "    def __init__(self , sname,sfather,sclass):\n",
    "        self.sname=sname\n",
    "        self.sfather=sfather\n",
    "        self.sclass=sclass\n",
    "    def getname(self):\n",
    "        print(f'my name is {self.sname}')\n",
    "    def getfathername(self):\n",
    "        print (f'my father name is {self.sfather}')\n",
    "    def getclassname(self):\n",
    "        print (f'my class is {self.sclass}')"
   ]
  },
  {
   "cell_type": "code",
   "execution_count": 49,
   "metadata": {},
   "outputs": [],
   "source": [
    "s1 = student('sarfaraz','hassan','15')"
   ]
  },
  {
   "cell_type": "code",
   "execution_count": 50,
   "metadata": {},
   "outputs": [],
   "source": [
    "s2 =student('iman','sarfaraz','0')"
   ]
  },
  {
   "cell_type": "code",
   "execution_count": 55,
   "metadata": {},
   "outputs": [
    {
     "name": "stdout",
     "output_type": "stream",
     "text": [
      "my class is 15\n",
      "my father name is hassan\n",
      "my name is sarfaraz\n",
      "None None None\n",
      "my class is 0\n",
      "my father name is sarfaraz\n",
      "my name is iman\n",
      "None None None\n"
     ]
    }
   ],
   "source": [
    "print(s1.getclassname(),s1.getfathername(),s1.getname())\n",
    "print(s2.getclassname(),s2.getfathername(),s2.getname())"
   ]
  },
  {
   "cell_type": "code",
   "execution_count": 56,
   "metadata": {},
   "outputs": [],
   "source": [
    "class car():\n",
    "    def __init__(self,make , model,year):\n",
    "        self.make=make\n",
    "        self.model=model\n",
    "        self.year=year\n",
    "    def get_discription_name(self):\n",
    "        longname = str(self.year)+\" \"+self.make+\" \"+self.model\n",
    "        return longname.title()\n",
    "    "
   ]
  },
  {
   "cell_type": "code",
   "execution_count": 57,
   "metadata": {},
   "outputs": [],
   "source": [
    "car1 = car('honda','suzuki','2019')"
   ]
  },
  {
   "cell_type": "code",
   "execution_count": 58,
   "metadata": {},
   "outputs": [
    {
     "data": {
      "text/plain": [
       "'2019 Honda Suzuki'"
      ]
     },
     "execution_count": 58,
     "metadata": {},
     "output_type": "execute_result"
    }
   ],
   "source": [
    "car1.get_discription_name()"
   ]
  },
  {
   "cell_type": "code",
   "execution_count": 101,
   "metadata": {},
   "outputs": [],
   "source": [
    "#Setting the defualt value for an attribute\n",
    "class car():\n",
    "    def __init__(self,make , model,year):\n",
    "        self.make=make\n",
    "        self.model=model\n",
    "        self.year=year\n",
    "        self.odometer_reading=0\n",
    "    def get_discription_name(self):\n",
    "        longname = str(self.year)+\" \"+self.make+\" \"+self.model\n",
    "        return longname.title()\n",
    "    def read_odo_meter(self):\n",
    "        print(f'the car has travelled {self.odometer_reading} miles')\n",
    "    def update_odometer(self,milage):\n",
    "        self.odometer_reading=milage\n",
    "    def increase_odometer(self,milage):\n",
    "        if milage>0 :\n",
    "            self.odometer_reading+=milage\n",
    "        else:\n",
    "            print('u cant rol back odometer')"
   ]
  },
  {
   "cell_type": "code",
   "execution_count": 102,
   "metadata": {},
   "outputs": [],
   "source": [
    "car1 = car('szuki','k','2018')\n",
    "car2 = car ('abc','f','2017')"
   ]
  },
  {
   "cell_type": "code",
   "execution_count": 103,
   "metadata": {},
   "outputs": [
    {
     "name": "stdout",
     "output_type": "stream",
     "text": [
      "the car has travelled 0 miles\n"
     ]
    }
   ],
   "source": [
    "car1.read_odo_meter()"
   ]
  },
  {
   "cell_type": "code",
   "execution_count": 104,
   "metadata": {},
   "outputs": [],
   "source": [
    "#car1.read_odo_meter='90'\n",
    "#car1.read_odo_meter()\n",
    "\n",
    "\n",
    "#direct access and modify\n",
    "\n",
    "#modif it using a function\n",
    "\n",
    "\n",
    "car1.odometer_reading=90\n"
   ]
  },
  {
   "cell_type": "code",
   "execution_count": 105,
   "metadata": {},
   "outputs": [
    {
     "name": "stdout",
     "output_type": "stream",
     "text": [
      "the car has travelled 90 miles\n"
     ]
    }
   ],
   "source": [
    "car1.read_odo_meter()"
   ]
  },
  {
   "cell_type": "code",
   "execution_count": 106,
   "metadata": {},
   "outputs": [],
   "source": [
    "car1.update_odometer(150)"
   ]
  },
  {
   "cell_type": "code",
   "execution_count": 107,
   "metadata": {},
   "outputs": [
    {
     "name": "stdout",
     "output_type": "stream",
     "text": [
      "the car has travelled 150 miles\n"
     ]
    }
   ],
   "source": [
    "car1.read_odo_meter()"
   ]
  },
  {
   "cell_type": "code",
   "execution_count": 110,
   "metadata": {},
   "outputs": [
    {
     "name": "stdout",
     "output_type": "stream",
     "text": [
      "u cant rol back odometer\n"
     ]
    }
   ],
   "source": [
    "car1.increase_odometer(-60)"
   ]
  },
  {
   "cell_type": "code",
   "execution_count": 111,
   "metadata": {},
   "outputs": [
    {
     "name": "stdout",
     "output_type": "stream",
     "text": [
      "the car has travelled 210 miles\n"
     ]
    }
   ],
   "source": [
    "car1.read_odo_meter()"
   ]
  },
  {
   "cell_type": "code",
   "execution_count": null,
   "metadata": {},
   "outputs": [],
   "source": []
  }
 ],
 "metadata": {
  "kernelspec": {
   "display_name": "Python 3",
   "language": "python",
   "name": "python3"
  },
  "language_info": {
   "codemirror_mode": {
    "name": "ipython",
    "version": 3
   },
   "file_extension": ".py",
   "mimetype": "text/x-python",
   "name": "python",
   "nbconvert_exporter": "python",
   "pygments_lexer": "ipython3",
   "version": "3.6.5"
  }
 },
 "nbformat": 4,
 "nbformat_minor": 2
}
