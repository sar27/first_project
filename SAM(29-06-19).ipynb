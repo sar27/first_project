{
 "cells": [
  {
   "cell_type": "markdown",
   "metadata": {},
   "source": [
    "# FUNCTION LOCAL VS GLOBAL VARIABLES"
   ]
  },
  {
   "cell_type": "code",
   "execution_count": 1,
   "metadata": {},
   "outputs": [],
   "source": [
    "# LOCAL VARIABLE: variable define inside function and can be accessed inside the function \n",
    "\n",
    "#global variables: variable define outside the function and can be accesssed in function and outside the function."
   ]
  },
  {
   "cell_type": "code",
   "execution_count": 2,
   "metadata": {},
   "outputs": [],
   "source": [
    "#local variables\n",
    "\n",
    "def local_var():\n",
    "    s=100\n",
    "    print(s)"
   ]
  },
  {
   "cell_type": "code",
   "execution_count": 4,
   "metadata": {},
   "outputs": [
    {
     "name": "stdout",
     "output_type": "stream",
     "text": [
      "100\n"
     ]
    }
   ],
   "source": [
    "local_var()"
   ]
  },
  {
   "cell_type": "code",
   "execution_count": 6,
   "metadata": {},
   "outputs": [
    {
     "name": "stdout",
     "output_type": "stream",
     "text": [
      "100 orange\n",
      "apple\n"
     ]
    }
   ],
   "source": [
    "#global variables:\n",
    "\n",
    "fruit ='apple'\n",
    "def global_var():\n",
    "    s=100\n",
    "    fruit='orange'\n",
    "    print(s,fruit)\n",
    "    \n",
    "global_var()\n",
    "print(fruit)"
   ]
  },
  {
   "cell_type": "code",
   "execution_count": 12,
   "metadata": {},
   "outputs": [],
   "source": [
    "fruit ='apple'\n",
    "def global_var():\n",
    "    global s  # global keyword is a keyword to access variable out the function \n",
    "    s=100\n",
    "    fruit='orange'\n",
    "    print(s,fruit)"
   ]
  },
  {
   "cell_type": "code",
   "execution_count": 13,
   "metadata": {},
   "outputs": [
    {
     "name": "stdout",
     "output_type": "stream",
     "text": [
      "100 orange\n"
     ]
    }
   ],
   "source": [
    "global_var()"
   ]
  },
  {
   "cell_type": "code",
   "execution_count": 14,
   "metadata": {},
   "outputs": [
    {
     "data": {
      "text/plain": [
       "100"
      ]
     },
     "execution_count": 14,
     "metadata": {},
     "output_type": "execute_result"
    }
   ],
   "source": [
    "s"
   ]
  },
  {
   "cell_type": "code",
   "execution_count": 18,
   "metadata": {},
   "outputs": [
    {
     "name": "stdout",
     "output_type": "stream",
     "text": [
      "6\n"
     ]
    },
    {
     "data": {
      "text/plain": [
       "(6, 'pakistan')"
      ]
     },
     "execution_count": 18,
     "metadata": {},
     "output_type": "execute_result"
    }
   ],
   "source": [
    "def add(a,b):\n",
    "    print(a+b)\n",
    "    return a+b,\"pakistan\" #multiple value can be return at time.\n",
    "sum= add(2,4)\n",
    "sum"
   ]
  },
  {
   "cell_type": "markdown",
   "metadata": {},
   "source": [
    "# while looping"
   ]
  },
  {
   "cell_type": "code",
   "execution_count": 19,
   "metadata": {},
   "outputs": [
    {
     "name": "stdout",
     "output_type": "stream",
     "text": [
      "0\n",
      "1\n",
      "2\n",
      "3\n",
      "4\n"
     ]
    }
   ],
   "source": [
    "for a in range(5):\n",
    "    print(a)"
   ]
  },
  {
   "cell_type": "code",
   "execution_count": 20,
   "metadata": {},
   "outputs": [
    {
     "name": "stdout",
     "output_type": "stream",
     "text": [
      "0\n",
      "1\n",
      "2\n",
      "3\n",
      "4\n"
     ]
    }
   ],
   "source": [
    "a= 0 \n",
    "while (a<5):\n",
    "    print(a)\n",
    "    a+=1"
   ]
  },
  {
   "cell_type": "code",
   "execution_count": 23,
   "metadata": {},
   "outputs": [
    {
     "name": "stdout",
     "output_type": "stream",
     "text": [
      "namesa\n",
      "your name is sa\n",
      "namesa\n",
      "your name is sa\n",
      "namesa\n",
      "your name is sa\n"
     ]
    }
   ],
   "source": [
    "# difference between for and while loop:\n",
    "for a in range(3):\n",
    "    name_ = input(\"name\")\n",
    "    print(f'your name is {name_}')"
   ]
  },
  {
   "cell_type": "code",
   "execution_count": 25,
   "metadata": {},
   "outputs": [
    {
     "name": "stdout",
     "output_type": "stream",
     "text": [
      "name batao1\n",
      "your name is 1\n",
      "name batao2\n",
      "your name is 2\n",
      "name batao3\n",
      "your name is 3\n",
      "name batao4\n",
      "your name is 4\n",
      "name batao5\n",
      "your name is 5\n",
      "name batao6\n",
      "your name is 6\n",
      "name batao7\n",
      "your name is 7\n",
      "name bataoquit\n",
      "your name is quit\n"
     ]
    }
   ],
   "source": [
    "#pizza topping:\n",
    "flag= True\n",
    "while flag:\n",
    "    name=input('name batao')\n",
    "    \n",
    "    if name =='quit':\n",
    "        flag=False\n",
    "    print(f'your name is {name}')"
   ]
  },
  {
   "cell_type": "markdown",
   "metadata": {},
   "source": [
    "# Object oriented programming language"
   ]
  },
  {
   "cell_type": "code",
   "execution_count": 27,
   "metadata": {},
   "outputs": [],
   "source": [
    "#classes\n",
    "\n",
    "class Patient():\n",
    "    pass"
   ]
  },
  {
   "cell_type": "code",
   "execution_count": 28,
   "metadata": {},
   "outputs": [],
   "source": [
    "# object have attribute and properties :\n"
   ]
  },
  {
   "cell_type": "code",
   "execution_count": 29,
   "metadata": {},
   "outputs": [],
   "source": [
    "# attribute and properties are in classes"
   ]
  },
  {
   "cell_type": "code",
   "execution_count": 40,
   "metadata": {},
   "outputs": [],
   "source": [
    "class Patient():\n",
    "    def __init__(self,pname,page,pgender,pdisease): #constructor in python it is initilizer\n",
    "        ######attributes###############################################\n",
    "        self.pname=pname #copy of multiple object\n",
    "        self.page=page\n",
    "        self.pgender=pgender\n",
    "        self.pdisease=pdisease\n",
    "#########################behaviours###################################\n",
    "    def take_medicine(self):\n",
    "        print(f'{self.pname} is taking medicine')\n",
    "      #  pass #pass does not demand to write any code\n",
    "    def take_rest(self):\n",
    "       # pass\n",
    "     print(f'{self.pname} is taking rest')\n",
    "    def depositMoney(self):\n",
    "      #  pass\n",
    "         print(f'{self.pname} is depositing fee')\n",
    "    \n",
    "        "
   ]
  },
  {
   "cell_type": "code",
   "execution_count": 41,
   "metadata": {},
   "outputs": [],
   "source": [
    "p123=Patient ('sarfaraz',50,'male','flu')"
   ]
  },
  {
   "cell_type": "code",
   "execution_count": 42,
   "metadata": {},
   "outputs": [],
   "source": [
    "p124 = Patient ('sambha',40,'male','fever')"
   ]
  },
  {
   "cell_type": "code",
   "execution_count": 44,
   "metadata": {},
   "outputs": [
    {
     "name": "stdout",
     "output_type": "stream",
     "text": [
      "sarfaraz is taking rest\n"
     ]
    }
   ],
   "source": [
    "p123.take_rest()"
   ]
  },
  {
   "cell_type": "code",
   "execution_count": 45,
   "metadata": {},
   "outputs": [
    {
     "data": {
      "text/plain": [
       "'sarfaraz'"
      ]
     },
     "execution_count": 45,
     "metadata": {},
     "output_type": "execute_result"
    }
   ],
   "source": [
    "\n",
    "p123.pname\n"
   ]
  },
  {
   "cell_type": "code",
   "execution_count": 46,
   "metadata": {},
   "outputs": [
    {
     "data": {
      "text/plain": [
       "40"
      ]
     },
     "execution_count": 46,
     "metadata": {},
     "output_type": "execute_result"
    }
   ],
   "source": [
    "p124.page"
   ]
  },
  {
   "cell_type": "code",
   "execution_count": 47,
   "metadata": {},
   "outputs": [
    {
     "data": {
      "text/plain": [
       "'sambha'"
      ]
     },
     "execution_count": 47,
     "metadata": {},
     "output_type": "execute_result"
    }
   ],
   "source": [
    "p124.pname"
   ]
  },
  {
   "cell_type": "code",
   "execution_count": 48,
   "metadata": {},
   "outputs": [],
   "source": [
    "class student():\n",
    "    def __init__(self , sname,sfather,sclass):\n",
    "        self.sname=sname\n",
    "        self.sfather=sfather\n",
    "        self.sclass=sclass\n",
    "    def getname(self):\n",
    "        print(f'my name is {self.sname}')\n",
    "    def getfathername(self):\n",
    "        print (f'my father name is {self.sfather}')\n",
    "    def getclassname(self):\n",
    "        print (f'my class is {self.sclass}')"
   ]
  },
  {
   "cell_type": "code",
   "execution_count": 49,
   "metadata": {},
   "outputs": [],
   "source": [
    "s1 = student('sarfaraz','hassan','15')"
   ]
  },
  {
   "cell_type": "code",
   "execution_count": 50,
   "metadata": {},
   "outputs": [],
   "source": [
    "s2 =student('iman','sarfaraz','0')"
   ]
  },
  {
   "cell_type": "code",
   "execution_count": 55,
   "metadata": {},
   "outputs": [
    {
     "name": "stdout",
     "output_type": "stream",
     "text": [
      "my class is 15\n",
      "my father name is hassan\n",
      "my name is sarfaraz\n",
      "None None None\n",
      "my class is 0\n",
      "my father name is sarfaraz\n",
      "my name is iman\n",
      "None None None\n"
     ]
    }
   ],
   "source": [
    "print(s1.getclassname(),s1.getfathername(),s1.getname())\n",
    "print(s2.getclassname(),s2.getfathername(),s2.getname())"
   ]
  },
  {
   "cell_type": "code",
   "execution_count": null,
   "metadata": {},
   "outputs": [],
   "source": []
  },
  {
   "cell_type": "code",
   "execution_count": null,
   "metadata": {},
   "outputs": [],
   "source": []
  }
 ],
 "metadata": {
  "kernelspec": {
   "display_name": "Python 3",
   "language": "python",
   "name": "python3"
  },
  "language_info": {
   "codemirror_mode": {
    "name": "ipython",
    "version": 3
   },
   "file_extension": ".py",
   "mimetype": "text/x-python",
   "name": "python",
   "nbconvert_exporter": "python",
   "pygments_lexer": "ipython3",
   "version": "3.6.5"
  }
 },
 "nbformat": 4,
 "nbformat_minor": 2
}
